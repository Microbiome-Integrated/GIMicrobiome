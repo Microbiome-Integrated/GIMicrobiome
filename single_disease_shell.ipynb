{
  "nbformat": 4,
  "nbformat_minor": 0,
  "metadata": {
    "colab": {
      "provenance": [],
      "include_colab_link": true
    },
    "kernelspec": {
      "name": "python3",
      "display_name": "Python 3"
    },
    "language_info": {
      "name": "python"
    }
  },
  "cells": [
    {
      "cell_type": "markdown",
      "metadata": {
        "id": "view-in-github",
        "colab_type": "text"
      },
      "source": [
        "<a href=\"https://colab.research.google.com/github/Microbiome-Integrated/GIMicrobiome/blob/main/single_disease_shell.ipynb\" target=\"_parent\"><img src=\"https://colab.research.google.com/assets/colab-badge.svg\" alt=\"Open In Colab\"/></a>"
      ]
    },
    {
      "cell_type": "markdown",
      "source": [
        "# [GI Disease]\n",
        "\n",
        "## Background\n",
        "* Causes\n",
        "* Symptoms\n",
        "* Diagnosis\n",
        "* Treatment\n",
        "\n",
        "## Epidemiology\n",
        "* Who are the vulnerable populations?  \n",
        "* Are there environmental factors that effect this condition?\n",
        "* What is the most common treatment outcome?\n",
        "* Public health burden? financial costs in treatment"
      ],
      "metadata": {
        "id": "k1Ug_YtDFt-R"
      }
    },
    {
      "cell_type": "markdown",
      "source": [
        "\n",
        "# Current understanding of Microbiome Invovlement\n",
        "* Role of microbiome in the disease\n",
        "* Gaps in understanding\n",
        "\n"
      ],
      "metadata": {
        "id": "X7Y5AB_9HAQt"
      }
    },
    {
      "cell_type": "markdown",
      "source": [
        "# This study\n",
        "* Descriptive analysis\n",
        "    * ordination, diversity\n",
        "    * phylogenic analysis\n",
        "* Predictive analysis\n",
        "    * identify key microbial features\n"
      ],
      "metadata": {
        "id": "UE2JxRC8JLuy"
      }
    },
    {
      "cell_type": "code",
      "source": [],
      "metadata": {
        "id": "sd0VR1PBFoHZ"
      },
      "execution_count": null,
      "outputs": []
    }
  ]
}